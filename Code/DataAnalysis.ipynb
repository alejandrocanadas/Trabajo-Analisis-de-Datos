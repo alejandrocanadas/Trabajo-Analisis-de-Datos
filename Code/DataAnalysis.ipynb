{
 "cells": [
  {
   "cell_type": "markdown",
   "id": "88509aaa",
   "metadata": {},
   "source": [
    "# Lectura y muestra del dataset\n",
    "\n",
    "Lectura del archivo y visualización de registros"
   ]
  },
  {
   "cell_type": "code",
   "execution_count": 1,
   "id": "9624ce27",
   "metadata": {},
   "outputs": [
    {
     "name": "stdout",
     "output_type": "stream",
     "text": [
      "      region    category       parameter  mode powertrain  year      unit  \\\n",
      "0  Australia  Historical        EV sales  Cars        BEV  2011  Vehicles   \n",
      "1  Australia  Historical  EV stock share  Cars         EV  2011   percent   \n",
      "2  Australia  Historical  EV sales share  Cars         EV  2011   percent   \n",
      "3  Australia  Historical        EV stock  Cars        BEV  2011  Vehicles   \n",
      "4  Australia  Historical        EV stock  Cars        BEV  2012  Vehicles   \n",
      "\n",
      "       value  \n",
      "0   49.00000  \n",
      "1    0.00039  \n",
      "2    0.00650  \n",
      "3   49.00000  \n",
      "4  220.00000  \n"
     ]
    }
   ],
   "source": [
    "import pandas as pd\n",
    "\n",
    "df = pd.read_csv('../Datos/data.csv')\n",
    "print(df.head())"
   ]
  },
  {
   "cell_type": "markdown",
   "id": "4ba8c19a",
   "metadata": {},
   "source": [
    "# Procesamiento de datos\n",
    "\n",
    "Acá se hace uso de la función to_dict para almacenar en una lista llamada ventas todos los registros o filas de la tabla en forma de diccionario."
   ]
  },
  {
   "cell_type": "code",
   "execution_count": 10,
   "id": "e8f29a35",
   "metadata": {},
   "outputs": [
    {
     "name": "stdout",
     "output_type": "stream",
     "text": [
      "{'region': 'Australia', 'category': 'Historical', 'parameter': 'EV sales', 'mode': 'Cars', 'powertrain': 'BEV', 'year': 2011, 'unit': 'Vehicles', 'value': 49.0}\n"
     ]
    }
   ],
   "source": [
    "ventas = df.to_dict(orient='records')\n",
    "#Ejemplo de diccionario en la lista\n",
    "print(ventas[0])"
   ]
  },
  {
   "cell_type": "markdown",
   "id": "f930f258",
   "metadata": {},
   "source": [
    "## Funciones para estructuración de los datos"
   ]
  },
  {
   "cell_type": "markdown",
   "id": "0baf1f14",
   "metadata": {},
   "source": [
    "Primero filtramos las filas donde el parametro sea EV sales y la unidad sea Vehicles para así representar la venta de vehículos electricos."
   ]
  },
  {
   "cell_type": "code",
   "execution_count": 3,
   "id": "28bd34af",
   "metadata": {},
   "outputs": [],
   "source": [
    "ventas_filtradas = []\n",
    "for fila in ventas:\n",
    "    if fila['parameter'] == 'EV sales' and fila['unit'] == 'Vehicles':\n",
    "        ventas_filtradas.append(fila)"
   ]
  },
  {
   "cell_type": "markdown",
   "id": "a896e20b",
   "metadata": {},
   "source": [
    "### Total de ventas"
   ]
  },
  {
   "cell_type": "code",
   "execution_count": 4,
   "id": "f972c707",
   "metadata": {},
   "outputs": [],
   "source": [
    "def total_ventas(ventas):\n",
    "    total = 0\n",
    "    for fila in ventas:\n",
    "        if 'value' in fila:\n",
    "            total += fila['value']\n",
    "    return total"
   ]
  },
  {
   "cell_type": "markdown",
   "id": "d1e9bd7c",
   "metadata": {},
   "source": [
    "### Ventas totales por año"
   ]
  },
  {
   "cell_type": "code",
   "execution_count": 5,
   "id": "7e59d368",
   "metadata": {},
   "outputs": [],
   "source": [
    "def ventas_por_ano(ventas):\n",
    "    ventas_año = {}\n",
    "    for fila in ventas:\n",
    "        año = fila['year']\n",
    "        venta = fila['value']\n",
    "        if año not in ventas_año:\n",
    "            ventas_año[año] = 0\n",
    "        ventas_año[año] += venta\n",
    "    return ventas_año\n"
   ]
  },
  {
   "cell_type": "markdown",
   "id": "afdf8728",
   "metadata": {},
   "source": [
    "### Ventas por país"
   ]
  },
  {
   "cell_type": "code",
   "execution_count": 6,
   "id": "be5ddca5",
   "metadata": {},
   "outputs": [],
   "source": [
    "def ventas_por_pais(ventas):\n",
    "    ventas_pais = {}\n",
    "    for fila in ventas:\n",
    "        pais = fila['region']\n",
    "        venta = fila['value']\n",
    "        if pais not in ventas_pais:\n",
    "            ventas_pais[pais] = 0\n",
    "        ventas_pais[pais] += venta\n",
    "    return ventas_pais"
   ]
  },
  {
   "cell_type": "markdown",
   "id": "7f325c07",
   "metadata": {},
   "source": [
    "### Top países con más ventas"
   ]
  },
  {
   "cell_type": "code",
   "execution_count": 7,
   "id": "039a59e4",
   "metadata": {},
   "outputs": [],
   "source": [
    "def top_paises(ventas, top_n=5):\n",
    "    ventas_pais = ventas_por_pais(ventas)\n",
    "    \n",
    "    items = []\n",
    "    for pais in ventas_pais:\n",
    "        items.append((pais, ventas_pais[pais]))\n",
    "\n",
    "    def clave_venta(item):\n",
    "        return item[1]\n",
    "    \n",
    "    items.sort(key=clave_venta, reverse=True)\n",
    "    \n",
    "    resultado = []\n",
    "    for i in range(min(top_n, len(items))):\n",
    "        resultado.append(items[i])\n",
    "    return resultado"
   ]
  },
  {
   "cell_type": "markdown",
   "id": "52c4d198",
   "metadata": {},
   "source": [
    "### Ventas promedio por powertrain"
   ]
  },
  {
   "cell_type": "code",
   "execution_count": 8,
   "id": "770f3938",
   "metadata": {},
   "outputs": [],
   "source": [
    "def ventas_promedio_por_powertrain(ventas):\n",
    "    suma_ventas = {}\n",
    "    cuenta = {}\n",
    "    for fila in ventas:\n",
    "        pt = fila['powertrain']\n",
    "        venta = fila['value']\n",
    "        if pt not in suma_ventas:\n",
    "            suma_ventas[pt] = 0\n",
    "            cuenta[pt] = 0\n",
    "        suma_ventas[pt] += venta\n",
    "        cuenta[pt] += 1\n",
    "\n",
    "    promedio = {}\n",
    "    for pt in suma_ventas:\n",
    "        if cuenta[pt] > 0:\n",
    "            promedio[pt] = suma_ventas[pt] / cuenta[pt]\n",
    "        else:\n",
    "            promedio[pt] = 0\n",
    "    return promedio"
   ]
  },
  {
   "cell_type": "markdown",
   "id": "11fac44f",
   "metadata": {},
   "source": [
    "# Muestra de resultados\n",
    "\n",
    "A continuación se mostrara el resultado de las operaciones realizadas"
   ]
  },
  {
   "cell_type": "code",
   "execution_count": 9,
   "id": "b5e59d4d",
   "metadata": {},
   "outputs": [
    {
     "name": "stdout",
     "output_type": "stream",
     "text": [
      "Total ventas mundial: 101614765.20000005\n",
      "Ventas por año: {2011: 116745.0, 2012: 285910.0, 2013: 510334.0, 2014: 810712.2000000477, 2015: 1412771.0, 2016: 1852523.0, 2017: 2825756.0, 2018: 4735114.0, 2019: 5177232.0, 2020: 8412203.0, 2021: 17209065.0, 2022: 25150045.0, 2023: 33098874.0, 2010: 17481.0}\n",
      "Ventas por país: {'Australia': 184404.0, 'Austria': 221539.0, 'Belgium': 470571.0, 'Brazil': 90240.0, 'Bulgaria': 4623.0, 'Canada': 564997.0, 'Chile': 3877.0, 'China': 21775929.0, 'Colombia': 16023.0, 'Costa Rica': 8831.0, 'Croatia': 7557.0, 'Cyprus': 2260.0, 'Czech Republic': 34300.0, 'Denmark': 259270.0, 'Estonia': 4585.0, 'EU27': 8556994.0, 'Europe': 11584008.0, 'Finland': 145832.0, 'France': 1542434.0, 'Germany': 2913809.0, 'Greece': 35644.0, 'Hungary': 42035.0, 'Iceland': 50337.0, 'India': 152646.0, 'Ireland': 88570.0, 'Israel': 150285.0, 'Italy': 488089.0, 'Japan': 611749.0, 'Korea': 548363.0, 'Latvia': 4687.0, 'Lithuania': 6673.0, 'Luxembourg': 42100.0, 'Mexico': 39610.0, 'Netherlands': 652237.2000000477, 'New Zealand': 100308.0, 'Norway': 849645.0, 'Poland': 85943.0, 'Portugal': 174645.0, 'Rest of the world': 245606.0, 'Romania': 39488.0, 'Seychelles': 338.0, 'Slovakia': 13351.0, 'Slovenia': 13363.0, 'South Africa': 3463.0, 'Spain': 358633.0, 'Sweden': 682392.0, 'Switzerland': 275690.0, 'Turkiye': 82638.0, 'United Arab Emirates': 52804.0, 'United Kingdom': 1584498.0, 'USA': 4763255.0, 'World': 40983597.0}\n",
      "Top 5 países con más ventas: [('World', 40983597.0), ('China', 21775929.0), ('Europe', 11584008.0), ('EU27', 8556994.0), ('USA', 4763255.0)]\n",
      "Ventas promedio por powertrain: {'BEV': 112862.88907284768, 'PHEV': 65044.15234375, 'FCEV': 632.629203540034}\n"
     ]
    }
   ],
   "source": [
    "print(\"Total ventas mundial:\", total_ventas(ventas_filtradas))\n",
    "print(\"Ventas por año:\", ventas_por_ano(ventas_filtradas))\n",
    "print(\"Ventas por país:\", ventas_por_pais(ventas_filtradas))\n",
    "print(\"Top 5 países con más ventas:\", top_paises(ventas_filtradas))\n",
    "print(\"Ventas promedio por powertrain:\", ventas_promedio_por_powertrain(ventas_filtradas))"
   ]
  }
 ],
 "metadata": {
  "kernelspec": {
   "display_name": "Python 3",
   "language": "python",
   "name": "python3"
  },
  "language_info": {
   "codemirror_mode": {
    "name": "ipython",
    "version": 3
   },
   "file_extension": ".py",
   "mimetype": "text/x-python",
   "name": "python",
   "nbconvert_exporter": "python",
   "pygments_lexer": "ipython3",
   "version": "3.10.0"
  }
 },
 "nbformat": 4,
 "nbformat_minor": 5
}
